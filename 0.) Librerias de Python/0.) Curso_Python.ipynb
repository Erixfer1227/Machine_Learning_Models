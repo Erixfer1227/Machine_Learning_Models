{
  "nbformat": 4,
  "nbformat_minor": 0,
  "metadata": {
    "colab": {
      "provenance": []
    },
    "kernelspec": {
      "name": "python3",
      "display_name": "Python 3"
    },
    "language_info": {
      "name": "python"
    }
  },
  "cells": [
    {
      "cell_type": "markdown",
      "source": [
        "# CURSO PYTHON"
      ],
      "metadata": {
        "id": "9L37ho0vGZIB"
      }
    },
    {
      "cell_type": "markdown",
      "source": [
        "Aprende Python: https://www.youtube.com/watch?v=DLikpfc64cA"
      ],
      "metadata": {
        "id": "SdT1KS3xtFsv"
      }
    },
    {
      "cell_type": "markdown",
      "source": [
        "**1.) Variables**"
      ],
      "metadata": {
        "id": "e3FCDq-gYDf_"
      }
    },
    {
      "cell_type": "markdown",
      "source": [
        "**1.1) Enteros**"
      ],
      "metadata": {
        "id": "c_gNhjiLaG8U"
      }
    },
    {
      "cell_type": "code",
      "execution_count": null,
      "metadata": {
        "colab": {
          "base_uri": "https://localhost:8080/"
        },
        "id": "bAoycXoqX13C",
        "outputId": "977a4dbe-e6d7-4aa8-80a0-df7d4e4a0449"
      },
      "outputs": [
        {
          "output_type": "execute_result",
          "data": {
            "text/plain": [
              "int"
            ]
          },
          "metadata": {},
          "execution_count": 3
        }
      ],
      "source": [
        "# type (): Para conocer el tipo de variable que quiero evaluar.\n",
        "type(5)"
      ]
    },
    {
      "cell_type": "code",
      "source": [
        "type(-15)"
      ],
      "metadata": {
        "colab": {
          "base_uri": "https://localhost:8080/"
        },
        "id": "v6lFVFq7Z8Lv",
        "outputId": "43b8ee27-498d-4a30-d86f-ad6e4523b38d"
      },
      "execution_count": null,
      "outputs": [
        {
          "output_type": "execute_result",
          "data": {
            "text/plain": [
              "int"
            ]
          },
          "metadata": {},
          "execution_count": 4
        }
      ]
    },
    {
      "cell_type": "code",
      "source": [
        "type(0)"
      ],
      "metadata": {
        "colab": {
          "base_uri": "https://localhost:8080/"
        },
        "id": "YMid8Ke-Z9ec",
        "outputId": "c8e05b91-35c8-47ae-8180-12b18b063288"
      },
      "execution_count": null,
      "outputs": [
        {
          "output_type": "execute_result",
          "data": {
            "text/plain": [
              "int"
            ]
          },
          "metadata": {},
          "execution_count": 5
        }
      ]
    },
    {
      "cell_type": "markdown",
      "source": [
        "**1.2) Float / Reales**"
      ],
      "metadata": {
        "id": "uuxU-T8kaJZ2"
      }
    },
    {
      "cell_type": "code",
      "source": [
        "type(0.5)"
      ],
      "metadata": {
        "colab": {
          "base_uri": "https://localhost:8080/"
        },
        "id": "pJi_nBQLaQgG",
        "outputId": "5cea4f17-9e67-413f-9ec5-e9b68c19f3d0"
      },
      "execution_count": null,
      "outputs": [
        {
          "output_type": "execute_result",
          "data": {
            "text/plain": [
              "float"
            ]
          },
          "metadata": {},
          "execution_count": 6
        }
      ]
    },
    {
      "cell_type": "code",
      "source": [
        "type(13.4)"
      ],
      "metadata": {
        "colab": {
          "base_uri": "https://localhost:8080/"
        },
        "id": "Gn3m2k-jaWlF",
        "outputId": "a3e28aab-d37d-4143-b01b-693de4df1d7b"
      },
      "execution_count": null,
      "outputs": [
        {
          "output_type": "execute_result",
          "data": {
            "text/plain": [
              "float"
            ]
          },
          "metadata": {},
          "execution_count": 7
        }
      ]
    },
    {
      "cell_type": "code",
      "source": [
        "type(4.0)"
      ],
      "metadata": {
        "colab": {
          "base_uri": "https://localhost:8080/"
        },
        "id": "7xEt23o4aWRW",
        "outputId": "d4b2366b-b23c-4141-8281-0119dfe58bfc"
      },
      "execution_count": null,
      "outputs": [
        {
          "output_type": "execute_result",
          "data": {
            "text/plain": [
              "float"
            ]
          },
          "metadata": {},
          "execution_count": 8
        }
      ]
    },
    {
      "cell_type": "markdown",
      "source": [
        "**1.3) Bool / Booleanos**\n",
        "\n",
        "Importantes para:\n",
        "\n",
        "\n",
        "*   Expresiones Condicionales\n",
        "*   Ciclos (Bucles)\n",
        "\n"
      ],
      "metadata": {
        "id": "hpl9u7pwad7x"
      }
    },
    {
      "cell_type": "code",
      "source": [
        "type(True)"
      ],
      "metadata": {
        "colab": {
          "base_uri": "https://localhost:8080/"
        },
        "id": "uKNJYEYoaiwJ",
        "outputId": "4c40c154-d254-4bc6-83f8-4f8204dbd13c"
      },
      "execution_count": null,
      "outputs": [
        {
          "output_type": "execute_result",
          "data": {
            "text/plain": [
              "bool"
            ]
          },
          "metadata": {},
          "execution_count": 9
        }
      ]
    },
    {
      "cell_type": "code",
      "source": [
        "type(False)"
      ],
      "metadata": {
        "colab": {
          "base_uri": "https://localhost:8080/"
        },
        "id": "XIFS_2Rea4oz",
        "outputId": "d94ced98-8a01-4bc8-adf1-57bf4729bcf9"
      },
      "execution_count": null,
      "outputs": [
        {
          "output_type": "execute_result",
          "data": {
            "text/plain": [
              "bool"
            ]
          },
          "metadata": {},
          "execution_count": 10
        }
      ]
    },
    {
      "cell_type": "markdown",
      "source": [
        "**1.4) String / Cadena de Caracteres**\n",
        "\n",
        "Puede estar encerrado en:\n",
        "\n",
        "\n",
        "*   Comillas Dobles\n",
        "*   Comillas Simples\n",
        "\n",
        "No puedo mezclar tipos de comillas\n",
        "\n",
        "\n"
      ],
      "metadata": {
        "id": "HwbLbXVda8Gp"
      }
    },
    {
      "cell_type": "code",
      "source": [
        "nombre = \"Erick\"\n",
        "nombre"
      ],
      "metadata": {
        "colab": {
          "base_uri": "https://localhost:8080/",
          "height": 36
        },
        "id": "kQCd4G2CbAgT",
        "outputId": "70887695-95ef-4558-ff30-16ed92f159c8"
      },
      "execution_count": null,
      "outputs": [
        {
          "output_type": "execute_result",
          "data": {
            "text/plain": [
              "'Erick'"
            ],
            "application/vnd.google.colaboratory.intrinsic+json": {
              "type": "string"
            }
          },
          "metadata": {},
          "execution_count": 12
        }
      ]
    },
    {
      "cell_type": "code",
      "source": [
        "apellido = 'Chacón'\n",
        "apellido"
      ],
      "metadata": {
        "colab": {
          "base_uri": "https://localhost:8080/",
          "height": 36
        },
        "id": "NllO8fGIbWsl",
        "outputId": "8b6cf388-b04b-48f3-d8b9-3e6feb5352fb"
      },
      "execution_count": null,
      "outputs": [
        {
          "output_type": "execute_result",
          "data": {
            "text/plain": [
              "'Chacón'"
            ],
            "application/vnd.google.colaboratory.intrinsic+json": {
              "type": "string"
            }
          },
          "metadata": {},
          "execution_count": 15
        }
      ]
    },
    {
      "cell_type": "markdown",
      "source": [
        "**1.4.1) No es lo mismo**"
      ],
      "metadata": {
        "id": "QgXQNjxXbxgg"
      }
    },
    {
      "cell_type": "code",
      "source": [
        "type(5)"
      ],
      "metadata": {
        "colab": {
          "base_uri": "https://localhost:8080/"
        },
        "id": "dXJ3z-A1bugA",
        "outputId": "f8167561-1bc4-4b5e-9ccc-53fe2becadf4"
      },
      "execution_count": null,
      "outputs": [
        {
          "output_type": "execute_result",
          "data": {
            "text/plain": [
              "int"
            ]
          },
          "metadata": {},
          "execution_count": 16
        }
      ]
    },
    {
      "cell_type": "code",
      "source": [
        "type('5')"
      ],
      "metadata": {
        "colab": {
          "base_uri": "https://localhost:8080/"
        },
        "id": "6I_PmdTtb3dG",
        "outputId": "dcc11b12-2840-47dc-802b-7574be8b207f"
      },
      "execution_count": null,
      "outputs": [
        {
          "output_type": "execute_result",
          "data": {
            "text/plain": [
              "str"
            ]
          },
          "metadata": {},
          "execution_count": 17
        }
      ]
    },
    {
      "cell_type": "markdown",
      "source": [
        "**1.4.2) Longitud de la Cadena de Caracteres**"
      ],
      "metadata": {
        "id": "9UbhRiQ9cCKk"
      }
    },
    {
      "cell_type": "code",
      "source": [
        "len(\"\")"
      ],
      "metadata": {
        "colab": {
          "base_uri": "https://localhost:8080/"
        },
        "id": "AP0ryUTwcFsD",
        "outputId": "fcd009b0-c597-4860-bf17-333dff7a7e59"
      },
      "execution_count": null,
      "outputs": [
        {
          "output_type": "execute_result",
          "data": {
            "text/plain": [
              "0"
            ]
          },
          "metadata": {},
          "execution_count": 18
        }
      ]
    },
    {
      "cell_type": "code",
      "source": [
        "len(\"Python\")"
      ],
      "metadata": {
        "colab": {
          "base_uri": "https://localhost:8080/"
        },
        "id": "1cjnVRt5cJjd",
        "outputId": "91de6f9b-5b76-4547-8198-4335602c051d"
      },
      "execution_count": null,
      "outputs": [
        {
          "output_type": "execute_result",
          "data": {
            "text/plain": [
              "6"
            ]
          },
          "metadata": {},
          "execution_count": 19
        }
      ]
    },
    {
      "cell_type": "markdown",
      "source": [
        "**1.4.3) Indexación**"
      ],
      "metadata": {
        "id": "e-3RWVppcabw"
      }
    },
    {
      "cell_type": "code",
      "source": [
        "palabra = \"Python\""
      ],
      "metadata": {
        "id": "8E_FAXtAceEt"
      },
      "execution_count": null,
      "outputs": []
    },
    {
      "cell_type": "code",
      "source": [
        "palabra[0]"
      ],
      "metadata": {
        "colab": {
          "base_uri": "https://localhost:8080/",
          "height": 36
        },
        "id": "l3knZxNbcnBg",
        "outputId": "92b5aaa5-a2e3-434f-bc47-7a52ee64368b"
      },
      "execution_count": null,
      "outputs": [
        {
          "output_type": "execute_result",
          "data": {
            "text/plain": [
              "'P'"
            ],
            "application/vnd.google.colaboratory.intrinsic+json": {
              "type": "string"
            }
          },
          "metadata": {},
          "execution_count": 24
        }
      ]
    },
    {
      "cell_type": "code",
      "source": [
        "palabra[1]"
      ],
      "metadata": {
        "colab": {
          "base_uri": "https://localhost:8080/",
          "height": 36
        },
        "id": "4LywgAfrcob2",
        "outputId": "cfac567d-b499-4fe4-cae1-03cc569e4136"
      },
      "execution_count": null,
      "outputs": [
        {
          "output_type": "execute_result",
          "data": {
            "text/plain": [
              "'y'"
            ],
            "application/vnd.google.colaboratory.intrinsic+json": {
              "type": "string"
            }
          },
          "metadata": {},
          "execution_count": 25
        }
      ]
    },
    {
      "cell_type": "code",
      "source": [
        "palabra[2]"
      ],
      "metadata": {
        "colab": {
          "base_uri": "https://localhost:8080/",
          "height": 36
        },
        "id": "n0HZIk9lcrGC",
        "outputId": "77d18170-8216-4ab8-cf60-eb52e72c3585"
      },
      "execution_count": null,
      "outputs": [
        {
          "output_type": "execute_result",
          "data": {
            "text/plain": [
              "'t'"
            ],
            "application/vnd.google.colaboratory.intrinsic+json": {
              "type": "string"
            }
          },
          "metadata": {},
          "execution_count": 26
        }
      ]
    },
    {
      "cell_type": "code",
      "source": [
        "palabra[3]"
      ],
      "metadata": {
        "colab": {
          "base_uri": "https://localhost:8080/",
          "height": 36
        },
        "id": "vJoDkioDctQU",
        "outputId": "8db00a5d-a985-424d-c61c-9311e2d97cab"
      },
      "execution_count": null,
      "outputs": [
        {
          "output_type": "execute_result",
          "data": {
            "text/plain": [
              "'h'"
            ],
            "application/vnd.google.colaboratory.intrinsic+json": {
              "type": "string"
            }
          },
          "metadata": {},
          "execution_count": 27
        }
      ]
    },
    {
      "cell_type": "code",
      "source": [
        "palabra[4]"
      ],
      "metadata": {
        "colab": {
          "base_uri": "https://localhost:8080/",
          "height": 36
        },
        "id": "XymQLdFycu1z",
        "outputId": "97f9b156-09e7-4f34-96a6-ddf3a4a29110"
      },
      "execution_count": null,
      "outputs": [
        {
          "output_type": "execute_result",
          "data": {
            "text/plain": [
              "'o'"
            ],
            "application/vnd.google.colaboratory.intrinsic+json": {
              "type": "string"
            }
          },
          "metadata": {},
          "execution_count": 28
        }
      ]
    },
    {
      "cell_type": "code",
      "source": [
        "palabra[5]"
      ],
      "metadata": {
        "colab": {
          "base_uri": "https://localhost:8080/",
          "height": 36
        },
        "id": "WhZI-vQhcwiM",
        "outputId": "e8be2095-8260-4f56-d95f-602d919444f0"
      },
      "execution_count": null,
      "outputs": [
        {
          "output_type": "execute_result",
          "data": {
            "text/plain": [
              "'n'"
            ],
            "application/vnd.google.colaboratory.intrinsic+json": {
              "type": "string"
            }
          },
          "metadata": {},
          "execution_count": 29
        }
      ]
    },
    {
      "cell_type": "markdown",
      "source": [
        "**1.4.4) Slicing / Rebanado**\n",
        "\n",
        "Tomar una rebanada de esa cadena de caracteres.\n",
        "\n",
        "\"Variable[Inicio:Fin]\""
      ],
      "metadata": {
        "id": "wikkF9jpdTAR"
      }
    },
    {
      "cell_type": "code",
      "source": [
        "palabra"
      ],
      "metadata": {
        "colab": {
          "base_uri": "https://localhost:8080/",
          "height": 36
        },
        "id": "4PyuiU-xdW5N",
        "outputId": "f30120d0-155b-45eb-8108-6b3a63ca46b4"
      },
      "execution_count": null,
      "outputs": [
        {
          "output_type": "execute_result",
          "data": {
            "text/plain": [
              "'Python'"
            ],
            "application/vnd.google.colaboratory.intrinsic+json": {
              "type": "string"
            }
          },
          "metadata": {},
          "execution_count": 30
        }
      ]
    },
    {
      "cell_type": "code",
      "source": [
        "# Quiero extraer \"th\" del objeto/variable \"palabra\"\n",
        "palabra[2:4] # El primer corchete es incluyente, el segundo es excluyente."
      ],
      "metadata": {
        "colab": {
          "base_uri": "https://localhost:8080/",
          "height": 36
        },
        "id": "utdSv5t9dxtv",
        "outputId": "76078673-cbe2-417f-897f-5ecad0e51617"
      },
      "execution_count": null,
      "outputs": [
        {
          "output_type": "execute_result",
          "data": {
            "text/plain": [
              "'th'"
            ],
            "application/vnd.google.colaboratory.intrinsic+json": {
              "type": "string"
            }
          },
          "metadata": {},
          "execution_count": 34
        }
      ]
    },
    {
      "cell_type": "code",
      "source": [
        "# Variantes\n",
        "\n",
        "palabra[2:] #Agarra desde el inicio en adelante."
      ],
      "metadata": {
        "colab": {
          "base_uri": "https://localhost:8080/",
          "height": 36
        },
        "id": "lJ122TbIhhWO",
        "outputId": "ca8b33e3-4001-4edc-e163-fcc5ac5c54f8"
      },
      "execution_count": null,
      "outputs": [
        {
          "output_type": "execute_result",
          "data": {
            "text/plain": [
              "'thon'"
            ],
            "application/vnd.google.colaboratory.intrinsic+json": {
              "type": "string"
            }
          },
          "metadata": {},
          "execution_count": 38
        }
      ]
    },
    {
      "cell_type": "code",
      "source": [
        "palabra[:4] #Agrra desde el incio y termina donde le digo."
      ],
      "metadata": {
        "colab": {
          "base_uri": "https://localhost:8080/",
          "height": 36
        },
        "id": "XSp99HSHh91D",
        "outputId": "a19d5f2b-1403-4d86-95ae-c499498bb5de"
      },
      "execution_count": null,
      "outputs": [
        {
          "output_type": "execute_result",
          "data": {
            "text/plain": [
              "'Pyth'"
            ],
            "application/vnd.google.colaboratory.intrinsic+json": {
              "type": "string"
            }
          },
          "metadata": {},
          "execution_count": 40
        }
      ]
    },
    {
      "cell_type": "code",
      "source": [
        "palabra[:] #Desde el inicio hasta el final."
      ],
      "metadata": {
        "colab": {
          "base_uri": "https://localhost:8080/",
          "height": 36
        },
        "id": "kTBRCPxbiHNR",
        "outputId": "8d5ace96-262b-4a45-9277-8c80cdd2aa56"
      },
      "execution_count": null,
      "outputs": [
        {
          "output_type": "execute_result",
          "data": {
            "text/plain": [
              "'Python'"
            ],
            "application/vnd.google.colaboratory.intrinsic+json": {
              "type": "string"
            }
          },
          "metadata": {},
          "execution_count": 42
        }
      ]
    },
    {
      "cell_type": "markdown",
      "source": [
        "**1.4.4.1) Rebanar con paso**\n",
        "\n",
        "El paso de 2 quiere decir que va a tomar el incio, luego a ese le suma 2 y asi sucecivamente hasta llegar al fin especificado"
      ],
      "metadata": {
        "id": "mScdhFNViqyS"
      }
    },
    {
      "cell_type": "code",
      "source": [
        "palabra[1:6:2]"
      ],
      "metadata": {
        "colab": {
          "base_uri": "https://localhost:8080/",
          "height": 36
        },
        "id": "JRjzddgyixGJ",
        "outputId": "7b30e459-cd79-457a-bbe1-0a6ed70b6318"
      },
      "execution_count": null,
      "outputs": [
        {
          "output_type": "execute_result",
          "data": {
            "text/plain": [
              "'yhn'"
            ],
            "application/vnd.google.colaboratory.intrinsic+json": {
              "type": "string"
            }
          },
          "metadata": {},
          "execution_count": 43
        }
      ]
    },
    {
      "cell_type": "markdown",
      "source": [
        "**2.) Métodos**\n",
        "\n",
        "Operaciones comunes que vienen implementadas en Python.\n",
        "\n",
        "**Sintax:**\n",
        "\n",
        "*Variable.metodo(valor que necesite el metodo)*\n",
        "\n",
        "metodo: descriptivo de lo que querramos hacer."
      ],
      "metadata": {
        "id": "MLCPYfkFkF1I"
      }
    },
    {
      "cell_type": "markdown",
      "source": [
        "**2.1) Método: Capitalize, Upper, Lower**\n",
        "\n",
        "Retorna una copia de la cadena con el primer caráter en mayúscula y el resto en minúsculas.\n",
        "\n",
        "Cuadndo un método inicie con is... es porque probablemente retornará un avalor booleano."
      ],
      "metadata": {
        "id": "DosUxPuqktB8"
      }
    },
    {
      "cell_type": "code",
      "source": [
        "palabra = \"python\"\n",
        "Palabra = palabra.capitalize()\n",
        "Palabra\n"
      ],
      "metadata": {
        "colab": {
          "base_uri": "https://localhost:8080/",
          "height": 36
        },
        "id": "_TWGVTaGkIAr",
        "outputId": "c6d35076-16ea-4f7c-8d5e-5c97519dfbff"
      },
      "execution_count": null,
      "outputs": [
        {
          "output_type": "execute_result",
          "data": {
            "text/plain": [
              "'Python'"
            ],
            "application/vnd.google.colaboratory.intrinsic+json": {
              "type": "string"
            }
          },
          "metadata": {},
          "execution_count": 46
        }
      ]
    },
    {
      "cell_type": "code",
      "source": [
        "PALABRA = palabra.upper()\n",
        "PALABRA"
      ],
      "metadata": {
        "colab": {
          "base_uri": "https://localhost:8080/",
          "height": 36
        },
        "id": "oMT1rguEokub",
        "outputId": "35126ff9-0df2-4e39-e503-96a7914f7aef"
      },
      "execution_count": null,
      "outputs": [
        {
          "output_type": "execute_result",
          "data": {
            "text/plain": [
              "'PYTHON'"
            ],
            "application/vnd.google.colaboratory.intrinsic+json": {
              "type": "string"
            }
          },
          "metadata": {},
          "execution_count": 48
        }
      ]
    },
    {
      "cell_type": "code",
      "source": [
        "PALABRA_min = PALABRA.lower()\n",
        "PALABRA_min"
      ],
      "metadata": {
        "colab": {
          "base_uri": "https://localhost:8080/",
          "height": 36
        },
        "id": "qYAum4Dkoqgi",
        "outputId": "468f00bf-c927-4748-cb7f-d38f3cbe4ac5"
      },
      "execution_count": null,
      "outputs": [
        {
          "output_type": "execute_result",
          "data": {
            "text/plain": [
              "'python'"
            ],
            "application/vnd.google.colaboratory.intrinsic+json": {
              "type": "string"
            }
          },
          "metadata": {},
          "execution_count": 50
        }
      ]
    },
    {
      "cell_type": "markdown",
      "source": [
        "**3.) Recibiendo datos del Usuario**\n",
        "\n",
        "Función \"input()\""
      ],
      "metadata": {
        "id": "JenV_XdipGvS"
      }
    },
    {
      "cell_type": "code",
      "source": [
        "Nombre = input(\"Ingrese su nombre: \")\n",
        "print(Nombre)\n",
        "\n",
        "#La función \"input()\" siempre retorna una cadena de caracteres."
      ],
      "metadata": {
        "colab": {
          "base_uri": "https://localhost:8080/"
        },
        "id": "3UbBZy6wo-gp",
        "outputId": "7812b8b4-b959-4e36-d218-09099dea21d4"
      },
      "execution_count": null,
      "outputs": [
        {
          "output_type": "stream",
          "name": "stdout",
          "text": [
            "Ingrese su nombre: Erick\n",
            "Erick\n"
          ]
        }
      ]
    },
    {
      "cell_type": "code",
      "source": [
        "type(Nombre)"
      ],
      "metadata": {
        "colab": {
          "base_uri": "https://localhost:8080/"
        },
        "id": "Lwv9OjEzx5aw",
        "outputId": "ee8e0352-16c6-45f2-ac2b-36167ab619d4"
      },
      "execution_count": null,
      "outputs": [
        {
          "output_type": "execute_result",
          "data": {
            "text/plain": [
              "str"
            ]
          },
          "metadata": {},
          "execution_count": 53
        }
      ]
    },
    {
      "cell_type": "markdown",
      "source": [
        "**3.1) Recibir un número (función \"input\")**"
      ],
      "metadata": {
        "id": "BSBjpKKJySx9"
      }
    },
    {
      "cell_type": "code",
      "source": [
        "num = int(input(\"Ingrese un número: \"))\n",
        "print (num)"
      ],
      "metadata": {
        "colab": {
          "base_uri": "https://localhost:8080/"
        },
        "id": "HExYpKEwyVwg",
        "outputId": "7c4740fc-35de-4c3b-8e51-5263d7b35da5"
      },
      "execution_count": null,
      "outputs": [
        {
          "output_type": "stream",
          "name": "stdout",
          "text": [
            "Ingrese un número: 5\n",
            "5\n"
          ]
        }
      ]
    },
    {
      "cell_type": "code",
      "source": [
        "type(num)"
      ],
      "metadata": {
        "colab": {
          "base_uri": "https://localhost:8080/"
        },
        "id": "Zj47S7nNyfac",
        "outputId": "e1c33b6c-02d5-40fc-fe6d-bdb8e83301db"
      },
      "execution_count": null,
      "outputs": [
        {
          "output_type": "execute_result",
          "data": {
            "text/plain": [
              "int"
            ]
          },
          "metadata": {},
          "execution_count": 55
        }
      ]
    },
    {
      "cell_type": "markdown",
      "source": [
        "**4.) Operadores**"
      ],
      "metadata": {
        "id": "O3VnIGmay3cc"
      }
    },
    {
      "cell_type": "markdown",
      "source": [
        "**4.1) Aritméticos**\n",
        "\n",
        "*   Suma: (5 + 6 = 11)\n",
        "*   Resta: (10 - 4 = 6)\n",
        "*   Multiplicación: (4 * 2 = 8)\n",
        "*   División: (15 / 5 = 3) tipo float\n",
        "*   División Entera: (15 // 5 = 3) entero\n",
        "*   Exponenete: (5 ** 3 = 125)\n",
        "*   Módulo: Retorna el resto de la división ayuda a veririfcar si es par i impar ( 5 % 2 = 1) Retorna el Residuo.\n",
        "\n",
        "\n",
        "\n",
        "\n",
        "\n",
        "\n",
        "\n"
      ],
      "metadata": {
        "id": "1p1_FDWszJWQ"
      }
    },
    {
      "cell_type": "markdown",
      "source": [
        "**4.2) Lógicos**\n",
        "\n",
        "Ayudan para trabajar con valores verdadero y falso.\n",
        "\n",
        "*   and = y | Mayor Prioridad\n",
        "*   or = ó | Prioridad Media\n",
        "*   not = no | Menor Prioridad"
      ],
      "metadata": {
        "id": "LVnAfzxc1YhD"
      }
    },
    {
      "cell_type": "code",
      "source": [
        "(5<6) and (6>8)"
      ],
      "metadata": {
        "colab": {
          "base_uri": "https://localhost:8080/"
        },
        "id": "1UriM-zAy6KX",
        "outputId": "e09231ab-5428-4535-a28b-3c7d65bff442"
      },
      "execution_count": null,
      "outputs": [
        {
          "output_type": "execute_result",
          "data": {
            "text/plain": [
              "False"
            ]
          },
          "metadata": {},
          "execution_count": 56
        }
      ]
    },
    {
      "cell_type": "code",
      "source": [
        "(5<6) or (6>80)"
      ],
      "metadata": {
        "colab": {
          "base_uri": "https://localhost:8080/"
        },
        "id": "Mcx8zuqN1y3P",
        "outputId": "255eae5d-6a3b-430a-f041-1b1e9e72de3f"
      },
      "execution_count": null,
      "outputs": [
        {
          "output_type": "execute_result",
          "data": {
            "text/plain": [
              "True"
            ]
          },
          "metadata": {},
          "execution_count": 57
        }
      ]
    },
    {
      "cell_type": "code",
      "source": [
        "not True"
      ],
      "metadata": {
        "colab": {
          "base_uri": "https://localhost:8080/"
        },
        "id": "9NXTTvKj2YvX",
        "outputId": "f55645a5-ddfc-40cd-cef6-5dac50613f95"
      },
      "execution_count": null,
      "outputs": [
        {
          "output_type": "execute_result",
          "data": {
            "text/plain": [
              "False"
            ]
          },
          "metadata": {},
          "execution_count": 58
        }
      ]
    },
    {
      "cell_type": "markdown",
      "source": [
        "**4.3) Relacionales**\n",
        "\n",
        "Para comparar valores y retornan un valor booleano.\n",
        "\n",
        "\n",
        "*   \">: Mayor que\"\n",
        "*   \">=: Mayor o igual que\"\n",
        "*   \"<: Menor que\"\n",
        "*   \"<=: Menor o igual que\"\n",
        "*   \"==: Igual que\"\n",
        "*   \"!=: No igual a\""
      ],
      "metadata": {
        "id": "iQ-HP6xs3CCW"
      }
    },
    {
      "cell_type": "code",
      "source": [
        "5 > 6"
      ],
      "metadata": {
        "colab": {
          "base_uri": "https://localhost:8080/"
        },
        "id": "4fkrsVbv3FZu",
        "outputId": "9b46a9d3-d1d1-4985-952f-72395a432a2e"
      },
      "execution_count": null,
      "outputs": [
        {
          "output_type": "execute_result",
          "data": {
            "text/plain": [
              "False"
            ]
          },
          "metadata": {},
          "execution_count": 59
        }
      ]
    },
    {
      "cell_type": "code",
      "source": [
        "5 >= 5"
      ],
      "metadata": {
        "colab": {
          "base_uri": "https://localhost:8080/"
        },
        "id": "1Xrfe-BE4aEk",
        "outputId": "e9daf8b4-5aa8-4c33-f4d6-84c77dbc5d9b"
      },
      "execution_count": null,
      "outputs": [
        {
          "output_type": "execute_result",
          "data": {
            "text/plain": [
              "True"
            ]
          },
          "metadata": {},
          "execution_count": 60
        }
      ]
    },
    {
      "cell_type": "code",
      "source": [
        "5 == 5"
      ],
      "metadata": {
        "colab": {
          "base_uri": "https://localhost:8080/"
        },
        "id": "KGP7XdR54c5A",
        "outputId": "406e1009-50c3-4783-cc91-ce8d8921c804"
      },
      "execution_count": null,
      "outputs": [
        {
          "output_type": "execute_result",
          "data": {
            "text/plain": [
              "True"
            ]
          },
          "metadata": {},
          "execution_count": 61
        }
      ]
    },
    {
      "cell_type": "code",
      "source": [
        "5 != 6"
      ],
      "metadata": {
        "colab": {
          "base_uri": "https://localhost:8080/"
        },
        "id": "-fWedPL44f5E",
        "outputId": "e6283f94-629d-4a5e-a667-10013f32815f"
      },
      "execution_count": null,
      "outputs": [
        {
          "output_type": "execute_result",
          "data": {
            "text/plain": [
              "True"
            ]
          },
          "metadata": {},
          "execution_count": 62
        }
      ]
    },
    {
      "cell_type": "markdown",
      "source": [
        "**4.4) Asignación**\n",
        "\n",
        "Utilizados para asignar valores a las variables.\n",
        "\n",
        "*   \"=: Igual.\"\n",
        "*   \"+=: Primero suma y luego asigna.\"\n",
        "*   \"-=: Primero resta y luego asigna.\"\n",
        "*   \"*=:\"\n",
        "*   \"/=:\"\n",
        "*   \"**=:\"\n",
        "*   \"//=:\"\n",
        "*   \"%=:\"\n",
        "\n",
        "\n",
        "\n"
      ],
      "metadata": {
        "id": "XUCfQvpg45aH"
      }
    },
    {
      "cell_type": "code",
      "source": [
        "edad = 56\n",
        "edad += 3\n",
        "edad"
      ],
      "metadata": {
        "colab": {
          "base_uri": "https://localhost:8080/"
        },
        "id": "So0lPOvb475H",
        "outputId": "da54a08a-251b-4864-8b70-1abca31d73cd"
      },
      "execution_count": null,
      "outputs": [
        {
          "output_type": "execute_result",
          "data": {
            "text/plain": [
              "59"
            ]
          },
          "metadata": {},
          "execution_count": 1
        }
      ]
    },
    {
      "cell_type": "code",
      "source": [
        "edad -= 2\n",
        "edad"
      ],
      "metadata": {
        "colab": {
          "base_uri": "https://localhost:8080/"
        },
        "id": "aiHxDn5Sb7zT",
        "outputId": "a4b89069-9fb5-4513-fe61-5e9c116a2683"
      },
      "execution_count": null,
      "outputs": [
        {
          "output_type": "execute_result",
          "data": {
            "text/plain": [
              "57"
            ]
          },
          "metadata": {},
          "execution_count": 2
        }
      ]
    },
    {
      "cell_type": "code",
      "source": [
        "edad *= 3\n",
        "edad"
      ],
      "metadata": {
        "colab": {
          "base_uri": "https://localhost:8080/"
        },
        "id": "hPXPWJFEcAxY",
        "outputId": "386913a7-7290-4d54-eb18-90cd4ca4871e"
      },
      "execution_count": null,
      "outputs": [
        {
          "output_type": "execute_result",
          "data": {
            "text/plain": [
              "171"
            ]
          },
          "metadata": {},
          "execution_count": 3
        }
      ]
    },
    {
      "cell_type": "code",
      "source": [
        "edad /= 2\n",
        "edad"
      ],
      "metadata": {
        "colab": {
          "base_uri": "https://localhost:8080/"
        },
        "id": "J9ylYgYPcEEv",
        "outputId": "a170eea5-27bc-43e4-fd65-af6f2d6eacf8"
      },
      "execution_count": null,
      "outputs": [
        {
          "output_type": "execute_result",
          "data": {
            "text/plain": [
              "85.5"
            ]
          },
          "metadata": {},
          "execution_count": 4
        }
      ]
    },
    {
      "cell_type": "markdown",
      "source": [
        "**5.) Sentencias Condicionales**\n",
        "\n",
        "Instruccion(es) cuya ejecución depende de una condición booleana."
      ],
      "metadata": {
        "id": "RLx1DHHUclQB"
      }
    },
    {
      "cell_type": "markdown",
      "source": [
        "**5.1) Función If Simple**"
      ],
      "metadata": {
        "id": "aDkVGeGheK-V"
      }
    },
    {
      "cell_type": "code",
      "source": [
        "temp = int(input(\"Ingrese la temperatura actual: \"))\n",
        "\n",
        "if temp < 25:\n",
        "  print(\"Frio\")"
      ],
      "metadata": {
        "colab": {
          "base_uri": "https://localhost:8080/"
        },
        "id": "q880RPxlcthz",
        "outputId": "a9798cc6-80cd-4e5c-f3a5-fc6c29fa79fa"
      },
      "execution_count": null,
      "outputs": [
        {
          "output_type": "stream",
          "name": "stdout",
          "text": [
            "Ingrese la temperatura actual: 24\n",
            "Frio\n"
          ]
        }
      ]
    },
    {
      "cell_type": "markdown",
      "source": [
        "**5.2) Función If y Else**"
      ],
      "metadata": {
        "id": "wlrdQfAxeOvt"
      }
    },
    {
      "cell_type": "code",
      "source": [
        "temp = int(input(\"Ingrese la temperatura actual: \"))\n",
        "\n",
        "if temp < 25:\n",
        "  print(\"Frio\")\n",
        "else:\n",
        "  print(\"Calor\")"
      ],
      "metadata": {
        "colab": {
          "base_uri": "https://localhost:8080/"
        },
        "id": "2udneyBtd5pX",
        "outputId": "08cccd4d-875b-4222-def4-fc2b3a9be477"
      },
      "execution_count": null,
      "outputs": [
        {
          "output_type": "stream",
          "name": "stdout",
          "text": [
            "Ingrese la temperatura actual: 25\n",
            "Calor\n"
          ]
        }
      ]
    },
    {
      "cell_type": "markdown",
      "source": [
        "**5.3) Función Elif**"
      ],
      "metadata": {
        "id": "yt1h5Qfre2X0"
      }
    },
    {
      "cell_type": "code",
      "source": [
        "temp = int(input(\"Ingrese la temperatura actual: \"))\n",
        "\n",
        "if temp <= 0:\n",
        "  print(\"Muy Frío\")\n",
        "elif temp < 25:\n",
        "  print(\"Frío\")\n",
        "else:\n",
        "  print(\"Calor\")"
      ],
      "metadata": {
        "colab": {
          "base_uri": "https://localhost:8080/"
        },
        "id": "VY-1paTEe6FU",
        "outputId": "974734e5-007e-4eda-9e81-87d6886bcf2f"
      },
      "execution_count": null,
      "outputs": [
        {
          "output_type": "stream",
          "name": "stdout",
          "text": [
            "Ingrese la temperatura actual: 25\n",
            "Calor\n"
          ]
        }
      ]
    },
    {
      "cell_type": "markdown",
      "source": [
        "**6.) Comentarios**\n",
        "\n",
        "Texto que se escribe en el programa para facilitar su compresión.\n",
        "\n",
        "No hay que comentar en exceso. Se debe asumir que la perrsona ya sabe programar en el lenguaje."
      ],
      "metadata": {
        "id": "F-5fl7yyfnr6"
      }
    },
    {
      "cell_type": "code",
      "source": [
        "# Comentario\n",
        "# Número de estudiantes\n",
        "# Registrados en el salón\n",
        "num_estudiantes = 33\n",
        "num_estudiantes"
      ],
      "metadata": {
        "colab": {
          "base_uri": "https://localhost:8080/"
        },
        "id": "AqBdOC_ifqaG",
        "outputId": "885d91d9-521a-4e0e-8b7f-3b98333017a6"
      },
      "execution_count": null,
      "outputs": [
        {
          "output_type": "execute_result",
          "data": {
            "text/plain": [
              "33"
            ]
          },
          "metadata": {},
          "execution_count": 17
        }
      ]
    },
    {
      "cell_type": "markdown",
      "source": [
        "**7.) Listas**\n",
        "\n",
        "Almacena múltiples valores en secuencia."
      ],
      "metadata": {
        "id": "5eTP_D9fhe7O"
      }
    },
    {
      "cell_type": "code",
      "source": [
        "# Listas númericas\n",
        "# Para definir una lista se usan corchetes.\n",
        "num = [1, 2, 3, 4]\n",
        "num"
      ],
      "metadata": {
        "colab": {
          "base_uri": "https://localhost:8080/"
        },
        "id": "sz6LrDiGhSCG",
        "outputId": "90ce561e-1f82-483b-b000-828b948ac377"
      },
      "execution_count": null,
      "outputs": [
        {
          "output_type": "execute_result",
          "data": {
            "text/plain": [
              "[1, 2, 3, 4]"
            ]
          },
          "metadata": {},
          "execution_count": 45
        }
      ]
    },
    {
      "cell_type": "code",
      "source": [
        "# Listas tipo string\n",
        "abc = [\"a\", \"b\", \"c\"]\n",
        "abc"
      ],
      "metadata": {
        "colab": {
          "base_uri": "https://localhost:8080/"
        },
        "id": "2TQHOSNnh9dU",
        "outputId": "1032a226-d3ad-474c-bad6-bab48391cea3"
      },
      "execution_count": null,
      "outputs": [
        {
          "output_type": "execute_result",
          "data": {
            "text/plain": [
              "['a', 'b', 'c']"
            ]
          },
          "metadata": {},
          "execution_count": 22
        }
      ]
    },
    {
      "cell_type": "code",
      "source": [
        "abc[:1]"
      ],
      "metadata": {
        "colab": {
          "base_uri": "https://localhost:8080/"
        },
        "id": "DvtvoifFiKII",
        "outputId": "56ea5208-5cfa-42ca-842b-1215b3956f88"
      },
      "execution_count": null,
      "outputs": [
        {
          "output_type": "execute_result",
          "data": {
            "text/plain": [
              "['a']"
            ]
          },
          "metadata": {},
          "execution_count": 24
        }
      ]
    },
    {
      "cell_type": "markdown",
      "source": [
        "**7.1) Agregrar un elemento a lista**\n",
        "\n",
        "Función \"append()\""
      ],
      "metadata": {
        "id": "CU2jPP1Hi2Af"
      }
    },
    {
      "cell_type": "code",
      "source": [
        "# Agregar un elemento al final de una lista\n",
        "abc.append(\"d\")\n",
        "abc[3]"
      ],
      "metadata": {
        "colab": {
          "base_uri": "https://localhost:8080/",
          "height": 36
        },
        "id": "JAbYaUL4i5n5",
        "outputId": "b0e0296f-f378-4c9c-d3f9-cf3ba99fb62c"
      },
      "execution_count": null,
      "outputs": [
        {
          "output_type": "execute_result",
          "data": {
            "text/plain": [
              "'d'"
            ],
            "application/vnd.google.colaboratory.intrinsic+json": {
              "type": "string"
            }
          },
          "metadata": {},
          "execution_count": 27
        }
      ]
    },
    {
      "cell_type": "code",
      "source": [
        "# Agrgear un elemento en un indice en especifico\n",
        "# <lista>.insert(<indice>, <elem>)\n",
        "num.insert(1, 6)\n",
        "num"
      ],
      "metadata": {
        "colab": {
          "base_uri": "https://localhost:8080/"
        },
        "id": "Yx3dlR-_jWId",
        "outputId": "0095a000-f1bd-494a-b76b-4f010dc243b9"
      },
      "execution_count": null,
      "outputs": [
        {
          "output_type": "execute_result",
          "data": {
            "text/plain": [
              "[1, 6, 2, 3, 4]"
            ]
          },
          "metadata": {},
          "execution_count": 46
        }
      ]
    },
    {
      "cell_type": "code",
      "source": [
        "# Remover un elemento de la lista\n",
        "# <lsita>.remove(<elem>)\n",
        "\n",
        "num.remove(6) # en <elem> se tiene que agregar el valor no el indice.\n",
        "num"
      ],
      "metadata": {
        "colab": {
          "base_uri": "https://localhost:8080/"
        },
        "id": "nNBVaHJQj6Y5",
        "outputId": "d61f9591-0b14-4c1c-8431-cf42af6cc199"
      },
      "execution_count": null,
      "outputs": [
        {
          "output_type": "execute_result",
          "data": {
            "text/plain": [
              "[1, 2, 3, 4]"
            ]
          },
          "metadata": {},
          "execution_count": 47
        }
      ]
    },
    {
      "cell_type": "code",
      "source": [
        "# Identificar un elemento en la lista\n",
        "# <elem> in <lista>\n",
        "\n",
        "vocales = [\"a\", \"e\", \"i\", \"o\", \"u\"]\n",
        "\"a\" in vocales"
      ],
      "metadata": {
        "colab": {
          "base_uri": "https://localhost:8080/"
        },
        "id": "bNVXoTUjk1dw",
        "outputId": "5a2c56d5-968e-443b-f08b-732f12b69658"
      },
      "execution_count": null,
      "outputs": [
        {
          "output_type": "execute_result",
          "data": {
            "text/plain": [
              "True"
            ]
          },
          "metadata": {},
          "execution_count": 50
        }
      ]
    },
    {
      "cell_type": "code",
      "source": [
        "\"z\" in vocales"
      ],
      "metadata": {
        "colab": {
          "base_uri": "https://localhost:8080/"
        },
        "id": "CXEwp16RlIba",
        "outputId": "59bdecf7-ef23-4b54-83d0-0b5c25061274"
      },
      "execution_count": null,
      "outputs": [
        {
          "output_type": "execute_result",
          "data": {
            "text/plain": [
              "False"
            ]
          },
          "metadata": {},
          "execution_count": 49
        }
      ]
    },
    {
      "cell_type": "code",
      "source": [
        "# Conocer en que posición esta un elemento\n",
        "# <lista>.index(<elem>)\n",
        "\n",
        "vocales.index(\"i\")"
      ],
      "metadata": {
        "colab": {
          "base_uri": "https://localhost:8080/"
        },
        "id": "2ppaZmNNlcVb",
        "outputId": "4a75dcca-cf30-46de-bdb1-6943e1944b66"
      },
      "execution_count": null,
      "outputs": [
        {
          "output_type": "execute_result",
          "data": {
            "text/plain": [
              "2"
            ]
          },
          "metadata": {},
          "execution_count": 52
        }
      ]
    },
    {
      "cell_type": "markdown",
      "source": [
        "**7.2) Alterar listas**"
      ],
      "metadata": {
        "id": "aRdH1DhYpMPC"
      }
    },
    {
      "cell_type": "code",
      "source": [
        "# Quitar un elemento de una lista y poner otro nuevo elemento\n",
        "# <lista>[<indice>]  = <nuevo valor>\n",
        "\n",
        "vocales[0] = \"A\"\n",
        "vocales"
      ],
      "metadata": {
        "colab": {
          "base_uri": "https://localhost:8080/"
        },
        "id": "7zT8hpxLpPxU",
        "outputId": "c7d47d91-6cc6-4a81-c005-9b44ba97c29c"
      },
      "execution_count": null,
      "outputs": [
        {
          "output_type": "execute_result",
          "data": {
            "text/plain": [
              "['A', 'e', 'i', 'o', 'u']"
            ]
          },
          "metadata": {},
          "execution_count": 53
        }
      ]
    },
    {
      "cell_type": "markdown",
      "source": [
        "**7.3) Métodos de las Listas**\n",
        "*   \".count(elem)\": Cuantas veces se repite un elemento en una lista.\n",
        "*   \".extend(lista)\": Extender una lista agregandoles los elementos de otra lista.\n",
        "*   \".pop()\": elimina el retorno de un elemento de la lista. Elimina el ultimo elemento de la lista y lo muestra.\n",
        "*   \".reverse()\": reversa el orden actual de la lista. El primer elemento se vuelve el ultimo.\n",
        "*   \".sort()\": ordena la lista en un orden especifico.\n",
        "\n",
        "\n",
        "\n"
      ],
      "metadata": {
        "id": "ydcJgOVCp7fo"
      }
    },
    {
      "cell_type": "code",
      "source": [
        "a = [3, 4, 5, 6,]\n",
        "a.pop()\n",
        "a.reverse()\n",
        "a.extend([8, 9, 0])\n",
        "a"
      ],
      "metadata": {
        "colab": {
          "base_uri": "https://localhost:8080/"
        },
        "id": "280_k0e8p-NU",
        "outputId": "126dc78b-f3b7-47ab-c718-a31aa88e771d"
      },
      "execution_count": null,
      "outputs": [
        {
          "output_type": "execute_result",
          "data": {
            "text/plain": [
              "[5, 4, 3, 8, 9, 0]"
            ]
          },
          "metadata": {},
          "execution_count": 58
        }
      ]
    },
    {
      "cell_type": "markdown",
      "source": [
        "**8. Tuplas**\n",
        "\n",
        "Es como una lista pero inmutable (no se puede cambiar nada dentro de ella)."
      ],
      "metadata": {
        "id": "d878nofkrjS6"
      }
    },
    {
      "cell_type": "code",
      "source": [
        "a = (1, 2, 3, 4)\n",
        "a\n",
        "# a[0] = 5 # No se puede meter nada a la estructura de tupla"
      ],
      "metadata": {
        "colab": {
          "base_uri": "https://localhost:8080/"
        },
        "id": "a27S-RMRrln4",
        "outputId": "b6629436-7591-4405-974b-3a3ce3b8a9e3"
      },
      "execution_count": null,
      "outputs": [
        {
          "output_type": "execute_result",
          "data": {
            "text/plain": [
              "(1, 2, 3, 4)"
            ]
          },
          "metadata": {},
          "execution_count": 59
        }
      ]
    },
    {
      "cell_type": "markdown",
      "source": [
        "**9. Diccionarios**"
      ],
      "metadata": {
        "id": "B-BYuXCptHZN"
      }
    },
    {
      "cell_type": "code",
      "source": [
        "edades = {\"Gino\": 15, \"Nora\": 45}\n",
        "edades[\"Gino\"]"
      ],
      "metadata": {
        "colab": {
          "base_uri": "https://localhost:8080/"
        },
        "id": "OnXAzhvptJhh",
        "outputId": "8f4b00c3-0905-43bf-93d3-a8ba1f8b0aad"
      },
      "execution_count": null,
      "outputs": [
        {
          "output_type": "execute_result",
          "data": {
            "text/plain": [
              "15"
            ]
          },
          "metadata": {},
          "execution_count": 62
        }
      ]
    },
    {
      "cell_type": "code",
      "source": [
        "edades[\"Nora\"]"
      ],
      "metadata": {
        "colab": {
          "base_uri": "https://localhost:8080/"
        },
        "id": "f3xFzXu7tUS8",
        "outputId": "c8ba6a77-aeb7-4c61-a8a3-bd1d0236b216"
      },
      "execution_count": null,
      "outputs": [
        {
          "output_type": "execute_result",
          "data": {
            "text/plain": [
              "45"
            ]
          },
          "metadata": {},
          "execution_count": 63
        }
      ]
    },
    {
      "cell_type": "markdown",
      "source": [
        "**9.1) Agregar un nuevo elemento a diccionario**"
      ],
      "metadata": {
        "id": "1sSrgcoltgAl"
      }
    },
    {
      "cell_type": "code",
      "source": [
        "# <diccionario>[<clave>] = <nuevo_valor>\n",
        "edades[\"Talina\"] = 67\n",
        "edades"
      ],
      "metadata": {
        "colab": {
          "base_uri": "https://localhost:8080/"
        },
        "id": "dqttkgKWtkEa",
        "outputId": "99e0f8bc-79f7-40de-cfa4-56c84d68cd7b"
      },
      "execution_count": null,
      "outputs": [
        {
          "output_type": "execute_result",
          "data": {
            "text/plain": [
              "{'Gino': 15, 'Nora': 45, 'Talina': 67}"
            ]
          },
          "metadata": {},
          "execution_count": 64
        }
      ]
    },
    {
      "cell_type": "markdown",
      "source": [
        "**9.2) Remover**"
      ],
      "metadata": {
        "id": "F3GCCscQt_JT"
      }
    },
    {
      "cell_type": "code",
      "source": [
        "# del <dicc>[<clave>]\n",
        "\n",
        "del edades [\"Gino\"]\n",
        "edades"
      ],
      "metadata": {
        "colab": {
          "base_uri": "https://localhost:8080/"
        },
        "id": "JqGFZs5puCDm",
        "outputId": "8959da6d-de06-4d9b-d906-791c13c34b4d"
      },
      "execution_count": null,
      "outputs": [
        {
          "output_type": "execute_result",
          "data": {
            "text/plain": [
              "{'Nora': 45, 'Talina': 67}"
            ]
          },
          "metadata": {},
          "execution_count": 65
        }
      ]
    },
    {
      "cell_type": "markdown",
      "source": [
        "**9.3) Revisar Existencia**"
      ],
      "metadata": {
        "id": "59Dzc0couQQT"
      }
    },
    {
      "cell_type": "code",
      "source": [
        "# <elem> in <dicc>\n",
        "\n",
        "\"Gino\" in edades"
      ],
      "metadata": {
        "colab": {
          "base_uri": "https://localhost:8080/"
        },
        "id": "WK6OtwpDuSxR",
        "outputId": "a472e926-db26-4d25-8b2d-d3b35c5b680b"
      },
      "execution_count": null,
      "outputs": [
        {
          "output_type": "execute_result",
          "data": {
            "text/plain": [
              "False"
            ]
          },
          "metadata": {},
          "execution_count": 66
        }
      ]
    },
    {
      "cell_type": "markdown",
      "source": [
        "**10.) Documentación**\n",
        "\n",
        "https://docs.python.org/es/3/library/functions.html#func-range"
      ],
      "metadata": {
        "id": "mpTIM331uhQH"
      }
    },
    {
      "cell_type": "markdown",
      "source": [
        "**11.) Ciclos For**\n",
        "\n",
        "Permite ejecutar una o varias líneas de código múltiples veces.\n",
        "\n",
        "**Se usa cuando: Se sabe cuantas veces se debe repetir ciertas instrucciones.**"
      ],
      "metadata": {
        "id": "qGNujMgbwUXk"
      }
    },
    {
      "cell_type": "code",
      "source": [
        "# for <variable> in range (<inicio>, <fin>):\n",
        "  #Código\n",
        "\n",
        "#________________\n",
        "# range(start, stop[ ,step])\n",
        "# si no se espcifica un valor en el inicio, su valor por defecto es 0\n",
        "# stop es el final de la secuencia, pero no es inclusivo.\n",
        "# step es el valor que se va a sumar a la secuencia, pro defecto es 1."
      ],
      "metadata": {
        "id": "QHjPvewiwW-6"
      },
      "execution_count": null,
      "outputs": []
    },
    {
      "cell_type": "code",
      "source": [
        "for i in range (4): # range(4) = 0, 1, 2, 3\n",
        "  print(i)"
      ],
      "metadata": {
        "colab": {
          "base_uri": "https://localhost:8080/"
        },
        "id": "alQRLex-_-FU",
        "outputId": "f8c0add0-8ed4-4523-9207-d5d96608351b"
      },
      "execution_count": null,
      "outputs": [
        {
          "output_type": "stream",
          "name": "stdout",
          "text": [
            "0\n",
            "1\n",
            "2\n",
            "3\n"
          ]
        }
      ]
    },
    {
      "cell_type": "markdown",
      "source": [
        "**11.1) Cadenas de Texto**"
      ],
      "metadata": {
        "id": "0_d6v84aBsiv"
      }
    },
    {
      "cell_type": "code",
      "source": [
        "for charx in \"Loops\":\n",
        "  print(charx)"
      ],
      "metadata": {
        "colab": {
          "base_uri": "https://localhost:8080/"
        },
        "id": "qtm9UltWBZx0",
        "outputId": "6c3237cb-c6f0-456e-a6ed-1758703650a3"
      },
      "execution_count": 21,
      "outputs": [
        {
          "output_type": "stream",
          "name": "stdout",
          "text": [
            "L\n",
            "o\n",
            "o\n",
            "p\n",
            "s\n"
          ]
        }
      ]
    },
    {
      "cell_type": "markdown",
      "source": [
        "**11.2) Listas**"
      ],
      "metadata": {
        "id": "x39SyKZ4Bwlj"
      }
    },
    {
      "cell_type": "code",
      "source": [
        "for num in [1, 2, 3,]:\n",
        "  print(num)"
      ],
      "metadata": {
        "colab": {
          "base_uri": "https://localhost:8080/"
        },
        "id": "TuUGxMbzBvPD",
        "outputId": "abde68ca-5920-4510-9c54-bec0596d6412"
      },
      "execution_count": null,
      "outputs": [
        {
          "output_type": "stream",
          "name": "stdout",
          "text": [
            "1\n",
            "2\n",
            "3\n"
          ]
        }
      ]
    },
    {
      "cell_type": "markdown",
      "source": [
        "**11.3) Diccionarios**"
      ],
      "metadata": {
        "id": "h-sm0oXjCFkm"
      }
    },
    {
      "cell_type": "code",
      "source": [
        "letras = {\"a\":1, \"b\":2}\n",
        "\n",
        "for clave in letras:\n",
        "  print(clave)"
      ],
      "metadata": {
        "colab": {
          "base_uri": "https://localhost:8080/"
        },
        "id": "qm3UZ1HCCFHq",
        "outputId": "3865cf8d-0e30-45a3-d2ec-df5badd362f0"
      },
      "execution_count": null,
      "outputs": [
        {
          "output_type": "stream",
          "name": "stdout",
          "text": [
            "a\n",
            "b\n"
          ]
        }
      ]
    },
    {
      "cell_type": "code",
      "source": [
        "letras = {\"a\":1, \"b\":2}\n",
        "\n",
        "for clave in letras.values():\n",
        "  print(clave)"
      ],
      "metadata": {
        "colab": {
          "base_uri": "https://localhost:8080/"
        },
        "id": "0gebyIfiCb1M",
        "outputId": "e3baea61-2fb5-4ba1-c93b-7e8a1825c3e7"
      },
      "execution_count": null,
      "outputs": [
        {
          "output_type": "stream",
          "name": "stdout",
          "text": [
            "1\n",
            "2\n"
          ]
        }
      ]
    },
    {
      "cell_type": "markdown",
      "source": [
        "**12.) Ciclos While**\n",
        "\n",
        "Continua mientras una condición es verdadera y se detenie cuando es falsa. Yo tengo que definir cuando sea falsa.\n",
        "\n",
        "**No tiene un número de fijo o predeterminado de iteraciones.**"
      ],
      "metadata": {
        "id": "ngPV4CnxCwnn"
      }
    },
    {
      "cell_type": "code",
      "source": [
        "# while <condición>:\n",
        "  #Código"
      ],
      "metadata": {
        "id": "VJHaWsuFCyes"
      },
      "execution_count": null,
      "outputs": []
    },
    {
      "cell_type": "code",
      "source": [
        "x = 20\n",
        "\n",
        "while x < 35:\n",
        "  print(x)\n",
        "  x = x + 3"
      ],
      "metadata": {
        "colab": {
          "base_uri": "https://localhost:8080/"
        },
        "id": "T8_eJWHaDdWl",
        "outputId": "813dcafd-e5d6-4f51-d031-741396d4b8bd"
      },
      "execution_count": null,
      "outputs": [
        {
          "output_type": "stream",
          "name": "stdout",
          "text": [
            "20\n",
            "23\n",
            "26\n",
            "29\n",
            "32\n"
          ]
        }
      ]
    },
    {
      "cell_type": "markdown",
      "source": [
        "**13.) Funciones**\n",
        "\n",
        "Realiza una sola tarea específica."
      ],
      "metadata": {
        "id": "QNUr7vVKEWqD"
      }
    },
    {
      "cell_type": "code",
      "source": [
        "# Sintaxis:\n",
        "# def <función> ():\n",
        "  # Código\n",
        "\n",
        "#_________________\n",
        "# def : definition\n",
        "# <función>: Nombre de la función"
      ],
      "metadata": {
        "id": "xgZv0pxREZJD"
      },
      "execution_count": null,
      "outputs": []
    },
    {
      "cell_type": "code",
      "source": [
        "def mostrar_mensaje():\n",
        "  print(\"¡Hola, Mundo!\")"
      ],
      "metadata": {
        "id": "PpLMpBsmFR4G"
      },
      "execution_count": null,
      "outputs": []
    },
    {
      "cell_type": "code",
      "source": [
        "mostrar_mensaje()"
      ],
      "metadata": {
        "colab": {
          "base_uri": "https://localhost:8080/"
        },
        "id": "K0g1ZaE6Gd03",
        "outputId": "857ec139-dc60-40a3-f010-fa0bb5e259ab"
      },
      "execution_count": null,
      "outputs": [
        {
          "output_type": "stream",
          "name": "stdout",
          "text": [
            "¡Hola, Mundo!\n"
          ]
        }
      ]
    },
    {
      "cell_type": "markdown",
      "source": [
        "**13.1) Parámetro**\n",
        "\n",
        "Es una variable que se incluye en una función. i.e. que variables usará la función."
      ],
      "metadata": {
        "id": "pinBiv6jtVoN"
      }
    },
    {
      "cell_type": "code",
      "source": [
        "# Sintaxis:\n",
        "\n",
        "# def <función> (<parámetro>):\n",
        "  # Código"
      ],
      "metadata": {
        "id": "mome7RZatgEt"
      },
      "execution_count": null,
      "outputs": []
    },
    {
      "cell_type": "code",
      "source": [
        "def mostrar_doble (num):\n",
        "  print(num * 2)"
      ],
      "metadata": {
        "id": "d_1e5xkXt7Rq"
      },
      "execution_count": 1,
      "outputs": []
    },
    {
      "cell_type": "code",
      "source": [
        "def sumar (x, y):\n",
        "  print(x + y)"
      ],
      "metadata": {
        "id": "ajmMZgfluGuj"
      },
      "execution_count": 2,
      "outputs": []
    },
    {
      "cell_type": "markdown",
      "source": [
        "**13.2) Argumento**\n",
        "\n",
        "Valor que se asigna a un parámetro cuando se llama a una función."
      ],
      "metadata": {
        "id": "8ibqyENYuQGj"
      }
    },
    {
      "cell_type": "code",
      "source": [
        "def sumar (x, y):\n",
        "  print(x + y)\n",
        "\n",
        "resultado = sumar (4,5)\n",
        "resultado"
      ],
      "metadata": {
        "colab": {
          "base_uri": "https://localhost:8080/"
        },
        "id": "wVJQkA-FuYad",
        "outputId": "59ef74ae-a109-419f-9010-e6b58c5b2c30"
      },
      "execution_count": 7,
      "outputs": [
        {
          "output_type": "stream",
          "name": "stdout",
          "text": [
            "9\n"
          ]
        }
      ]
    },
    {
      "cell_type": "code",
      "source": [
        "# Return me permite trabajar con el resultdo de la función, print no.\n",
        "def sumar2 (a, b):\n",
        "  return a + b\n",
        "\n",
        "resultado2 = sumar2 (2, 4)\n",
        "resultado2"
      ],
      "metadata": {
        "colab": {
          "base_uri": "https://localhost:8080/"
        },
        "id": "b20AUkwq4ztr",
        "outputId": "2e690c7f-b51d-4c80-fd17-24376d6fff6e"
      },
      "execution_count": 6,
      "outputs": [
        {
          "output_type": "execute_result",
          "data": {
            "text/plain": [
              "6"
            ]
          },
          "metadata": {},
          "execution_count": 6
        }
      ]
    },
    {
      "cell_type": "markdown",
      "source": [
        "**14.) Recursión**"
      ],
      "metadata": {
        "id": "a8Xj1RU07CVR"
      }
    },
    {
      "cell_type": "code",
      "source": [
        "def fibonacci (n):\n",
        "  if n == 0 or n == 1:\n",
        "    return n\n",
        "  else:\n",
        "    return fibonacci (n-1) + fibonacci (n-2)\n",
        "\n",
        "#_____________\n",
        "# n: es la posición del número a evaluar en la sucesión de números."
      ],
      "metadata": {
        "id": "d0nq0uKa7GOT"
      },
      "execution_count": 12,
      "outputs": []
    },
    {
      "cell_type": "code",
      "source": [
        "fibonacci (7) # (contanto desde 0) El número que esta en la posición 3 es:"
      ],
      "metadata": {
        "colab": {
          "base_uri": "https://localhost:8080/"
        },
        "id": "s96ediSe7V0y",
        "outputId": "359b83b9-7f78-4e42-ad4c-85fade375e93"
      },
      "execution_count": 17,
      "outputs": [
        {
          "output_type": "execute_result",
          "data": {
            "text/plain": [
              "13"
            ]
          },
          "metadata": {},
          "execution_count": 17
        }
      ]
    },
    {
      "cell_type": "markdown",
      "source": [
        "**15.) Archivos**\n",
        "\n",
        "Modos de apertura de archivos:\n",
        "*   r (read - leer)\n",
        "*   w (write - escribir)\n",
        "*   a (append - añadir)\n",
        "*   Agregar un + incluye leer. Ej: \"w+\" = Leer y escribir.\n",
        "\n",
        "\n"
      ],
      "metadata": {
        "id": "VQOnEeRx-I_K"
      }
    },
    {
      "cell_type": "code",
      "source": [
        "# Sintaxis:\n",
        "#______________________________\n",
        "# with open(\"<nombre_archivo>.txt, \"r\") as archivo:\n",
        "  #Trabjar con el documento"
      ],
      "metadata": {
        "id": "zulnSayd-NKh"
      },
      "execution_count": 18,
      "outputs": []
    },
    {
      "cell_type": "code",
      "source": [
        "#with open (\"frases_famosas.txt\", \"r\") as archivo:\n",
        "  #for linea in archivo:\n",
        "    #print(\"=== Frase ===\")\n",
        "    #print(linea)"
      ],
      "metadata": {
        "id": "bPnFh_UX-sSd"
      },
      "execution_count": 20,
      "outputs": []
    },
    {
      "cell_type": "markdown",
      "source": [
        "**16.) Importaciones**\n",
        "\n",
        "Módulo: Es un archivo Python que contiene definiciones y sentencias. Se definen elementos, variables, constantes, etc.\n",
        "\n",
        "Importación: Da acceso a las funciones y constantes definidas en el modúlo importado."
      ],
      "metadata": {
        "id": "jBl2plxUAfWi"
      }
    },
    {
      "cell_type": "code",
      "source": [
        "# Sintaxis:\n",
        "# ________________________\n",
        "# import <modulo>"
      ],
      "metadata": {
        "id": "682gjhgRAiaD"
      },
      "execution_count": 22,
      "outputs": []
    },
    {
      "cell_type": "code",
      "source": [
        "# Sintaxis para llamar a una función del modulo:\n",
        "# _________________________\n",
        "# <modulo>.<función>(<argumentos>)"
      ],
      "metadata": {
        "id": "eo-cTUU1BIEM"
      },
      "execution_count": 23,
      "outputs": []
    },
    {
      "cell_type": "code",
      "source": [
        "import math"
      ],
      "metadata": {
        "id": "XA-6_s5XCBu1"
      },
      "execution_count": 24,
      "outputs": []
    },
    {
      "cell_type": "code",
      "source": [
        "math.pow(9,2)"
      ],
      "metadata": {
        "colab": {
          "base_uri": "https://localhost:8080/"
        },
        "id": "dkBa40FDCDwb",
        "outputId": "c3902ca7-0907-416f-df1b-a42c21ac77fb"
      },
      "execution_count": 25,
      "outputs": [
        {
          "output_type": "execute_result",
          "data": {
            "text/plain": [
              "81.0"
            ]
          },
          "metadata": {},
          "execution_count": 25
        }
      ]
    },
    {
      "cell_type": "markdown",
      "source": [
        "**16.1) Importar con nombres alternativos**"
      ],
      "metadata": {
        "id": "VjzkKpsgCdZV"
      }
    },
    {
      "cell_type": "code",
      "source": [
        "# Sintaxis:\n",
        "# __________________________\n",
        "# import <modulo> as <nombre_alternativo>"
      ],
      "metadata": {
        "id": "dljPFwj5ChfE"
      },
      "execution_count": 26,
      "outputs": []
    },
    {
      "cell_type": "code",
      "source": [
        "import pandas as pd"
      ],
      "metadata": {
        "id": "FRvIcXcvCr5c"
      },
      "execution_count": 27,
      "outputs": []
    },
    {
      "cell_type": "code",
      "source": [
        "import math as matematicas\n",
        "\n",
        "matematicas.pi"
      ],
      "metadata": {
        "colab": {
          "base_uri": "https://localhost:8080/"
        },
        "id": "AT0a7n5gC3qd",
        "outputId": "08f4e05e-18a4-4829-9480-3f6ba000ce20"
      },
      "execution_count": 28,
      "outputs": [
        {
          "output_type": "execute_result",
          "data": {
            "text/plain": [
              "3.141592653589793"
            ]
          },
          "metadata": {},
          "execution_count": 28
        }
      ]
    },
    {
      "cell_type": "markdown",
      "source": [
        "**16.2) Importar solo un elemento de un modulo en especifico**"
      ],
      "metadata": {
        "id": "0tTH0xWoDDGg"
      }
    },
    {
      "cell_type": "code",
      "source": [
        "# Sintaxis:\n",
        "# _________________________\n",
        "# from <modulo> import <elemento>"
      ],
      "metadata": {
        "id": "eq6QG5JhDL3U"
      },
      "execution_count": 30,
      "outputs": []
    },
    {
      "cell_type": "code",
      "source": [
        "from pandas import read_csv"
      ],
      "metadata": {
        "id": "StE3iu2xDVks"
      },
      "execution_count": 33,
      "outputs": []
    }
  ]
}