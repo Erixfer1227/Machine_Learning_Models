{
 "cells": [
  {
   "cell_type": "markdown",
   "id": "b2081462-7320-4745-bae1-a0405c1a533d",
   "metadata": {},
   "source": [
    "__INSTALAR LIBRERIAS__"
   ]
  },
  {
   "cell_type": "code",
   "execution_count": 1,
   "id": "eb4c0308-813f-4b89-9811-1f16b92420ad",
   "metadata": {},
   "outputs": [
    {
     "name": "stdout",
     "output_type": "stream",
     "text": [
      "Collecting apyori\n",
      "  Downloading apyori-1.1.2.tar.gz (8.6 kB)\n",
      "  Preparing metadata (setup.py) ... \u001b[?25ldone\n",
      "\u001b[?25hBuilding wheels for collected packages: apyori\n",
      "  Building wheel for apyori (setup.py) ... \u001b[?25ldone\n",
      "\u001b[?25h  Created wheel for apyori: filename=apyori-1.1.2-py3-none-any.whl size=5955 sha256=ec41f14940d38b7c01a529655d20e620c104babd30e04551e75b9763921acd1c\n",
      "  Stored in directory: /Users/erickfernandochaconflores/Library/Caches/pip/wheels/84/45/a4/8ade6576f75410d8162c6da1de0aa9df56c16c711acab5a813\n",
      "Successfully built apyori\n",
      "Installing collected packages: apyori\n",
      "Successfully installed apyori-1.1.2\n"
     ]
    }
   ],
   "source": [
    "!pip install apyori"
   ]
  },
  {
   "cell_type": "markdown",
   "id": "1a04a5cf-9c0d-456d-86f7-da801bb044d1",
   "metadata": {},
   "source": [
    "__IMPORTAR LIBRERIAS__"
   ]
  },
  {
   "cell_type": "code",
   "execution_count": 3,
   "id": "4a5b775d-8d13-4d9e-9f75-9089d0f595c9",
   "metadata": {},
   "outputs": [],
   "source": [
    "import numpy as np  \n",
    "import matplotlib.pyplot as plt  \n",
    "import pandas as pd  \n",
    "from apyori import apriori"
   ]
  },
  {
   "cell_type": "markdown",
   "id": "849ace4d-8472-4b36-8009-2daaa16560cb",
   "metadata": {},
   "source": [
    "__IMPORTAR BASE DE DATOS Y PROCESAMIENTO DE DATOS__"
   ]
  },
  {
   "cell_type": "code",
   "execution_count": 6,
   "id": "a55b3c3e-85a4-49fe-a10f-28ff261648de",
   "metadata": {},
   "outputs": [],
   "source": [
    "df = pd.read_csv('/Users/erickfernandochaconflores/Downloads/analisis_canasta-master/bases_de_datos/grocery_20.csv', header = None )"
   ]
  },
  {
   "cell_type": "code",
   "execution_count": 7,
   "id": "bd8b4cec-be1f-46f7-8096-dfb781ed7e10",
   "metadata": {},
   "outputs": [
    {
     "data": {
      "text/html": [
       "<div>\n",
       "<style scoped>\n",
       "    .dataframe tbody tr th:only-of-type {\n",
       "        vertical-align: middle;\n",
       "    }\n",
       "\n",
       "    .dataframe tbody tr th {\n",
       "        vertical-align: top;\n",
       "    }\n",
       "\n",
       "    .dataframe thead th {\n",
       "        text-align: right;\n",
       "    }\n",
       "</style>\n",
       "<table border=\"1\" class=\"dataframe\">\n",
       "  <thead>\n",
       "    <tr style=\"text-align: right;\">\n",
       "      <th></th>\n",
       "      <th>0</th>\n",
       "      <th>1</th>\n",
       "      <th>2</th>\n",
       "      <th>3</th>\n",
       "    </tr>\n",
       "  </thead>\n",
       "  <tbody>\n",
       "    <tr>\n",
       "      <th>0</th>\n",
       "      <td>MILK</td>\n",
       "      <td>BREAD</td>\n",
       "      <td>BISCUIT</td>\n",
       "      <td>NaN</td>\n",
       "    </tr>\n",
       "    <tr>\n",
       "      <th>1</th>\n",
       "      <td>BREAD</td>\n",
       "      <td>MILK</td>\n",
       "      <td>BISCUIT</td>\n",
       "      <td>CORNFLAKES</td>\n",
       "    </tr>\n",
       "    <tr>\n",
       "      <th>2</th>\n",
       "      <td>BREAD</td>\n",
       "      <td>TEA</td>\n",
       "      <td>BOURNVITA</td>\n",
       "      <td>NaN</td>\n",
       "    </tr>\n",
       "    <tr>\n",
       "      <th>3</th>\n",
       "      <td>JAM</td>\n",
       "      <td>JUICE</td>\n",
       "      <td>BREAD</td>\n",
       "      <td>MILK</td>\n",
       "    </tr>\n",
       "    <tr>\n",
       "      <th>4</th>\n",
       "      <td>JUICE</td>\n",
       "      <td>TEA</td>\n",
       "      <td>BISCUIT</td>\n",
       "      <td>NaN</td>\n",
       "    </tr>\n",
       "  </tbody>\n",
       "</table>\n",
       "</div>"
      ],
      "text/plain": [
       "       0      1          2           3\n",
       "0   MILK  BREAD    BISCUIT         NaN\n",
       "1  BREAD   MILK    BISCUIT  CORNFLAKES\n",
       "2  BREAD    TEA  BOURNVITA         NaN\n",
       "3    JAM  JUICE      BREAD        MILK\n",
       "4  JUICE    TEA    BISCUIT         NaN"
      ]
     },
     "execution_count": 7,
     "metadata": {},
     "output_type": "execute_result"
    }
   ],
   "source": [
    "df.head()"
   ]
  },
  {
   "cell_type": "code",
   "execution_count": 8,
   "id": "e6ec0205-43a9-453e-ac0d-abdff091701e",
   "metadata": {},
   "outputs": [
    {
     "data": {
      "text/html": [
       "<div>\n",
       "<style scoped>\n",
       "    .dataframe tbody tr th:only-of-type {\n",
       "        vertical-align: middle;\n",
       "    }\n",
       "\n",
       "    .dataframe tbody tr th {\n",
       "        vertical-align: top;\n",
       "    }\n",
       "\n",
       "    .dataframe thead th {\n",
       "        text-align: right;\n",
       "    }\n",
       "</style>\n",
       "<table border=\"1\" class=\"dataframe\">\n",
       "  <thead>\n",
       "    <tr style=\"text-align: right;\">\n",
       "      <th></th>\n",
       "      <th>0</th>\n",
       "      <th>1</th>\n",
       "      <th>2</th>\n",
       "      <th>3</th>\n",
       "    </tr>\n",
       "  </thead>\n",
       "  <tbody>\n",
       "    <tr>\n",
       "      <th>16</th>\n",
       "      <td>BREAD</td>\n",
       "      <td>SUGAR</td>\n",
       "      <td>BOURNVITA</td>\n",
       "      <td>NaN</td>\n",
       "    </tr>\n",
       "    <tr>\n",
       "      <th>17</th>\n",
       "      <td>BREAD</td>\n",
       "      <td>COFFEE</td>\n",
       "      <td>SPLENDA</td>\n",
       "      <td>NaN</td>\n",
       "    </tr>\n",
       "    <tr>\n",
       "      <th>18</th>\n",
       "      <td>BREAD</td>\n",
       "      <td>COFFEE</td>\n",
       "      <td>STEVIA</td>\n",
       "      <td>NaN</td>\n",
       "    </tr>\n",
       "    <tr>\n",
       "      <th>19</th>\n",
       "      <td>TEA</td>\n",
       "      <td>MILK</td>\n",
       "      <td>COFFEE</td>\n",
       "      <td>CORNFLAKES</td>\n",
       "    </tr>\n",
       "    <tr>\n",
       "      <th>20</th>\n",
       "      <td>NaN</td>\n",
       "      <td>NaN</td>\n",
       "      <td>NaN</td>\n",
       "      <td>NaN</td>\n",
       "    </tr>\n",
       "  </tbody>\n",
       "</table>\n",
       "</div>"
      ],
      "text/plain": [
       "        0       1          2           3\n",
       "16  BREAD   SUGAR  BOURNVITA         NaN\n",
       "17  BREAD  COFFEE    SPLENDA         NaN\n",
       "18  BREAD  COFFEE     STEVIA         NaN\n",
       "19    TEA    MILK     COFFEE  CORNFLAKES\n",
       "20    NaN     NaN        NaN         NaN"
      ]
     },
     "execution_count": 8,
     "metadata": {},
     "output_type": "execute_result"
    }
   ],
   "source": [
    "df.tail()"
   ]
  },
  {
   "cell_type": "code",
   "execution_count": 10,
   "id": "5cc954c6-531f-4f1d-8208-f10bc2e6ebed",
   "metadata": {},
   "outputs": [
    {
     "data": {
      "text/html": [
       "<div>\n",
       "<style scoped>\n",
       "    .dataframe tbody tr th:only-of-type {\n",
       "        vertical-align: middle;\n",
       "    }\n",
       "\n",
       "    .dataframe tbody tr th {\n",
       "        vertical-align: top;\n",
       "    }\n",
       "\n",
       "    .dataframe thead th {\n",
       "        text-align: right;\n",
       "    }\n",
       "</style>\n",
       "<table border=\"1\" class=\"dataframe\">\n",
       "  <thead>\n",
       "    <tr style=\"text-align: right;\">\n",
       "      <th></th>\n",
       "      <th>0</th>\n",
       "      <th>1</th>\n",
       "      <th>2</th>\n",
       "      <th>3</th>\n",
       "    </tr>\n",
       "  </thead>\n",
       "  <tbody>\n",
       "    <tr>\n",
       "      <th>15</th>\n",
       "      <td>COFFEE</td>\n",
       "      <td>STEVIA</td>\n",
       "      <td>CORNFLAKES</td>\n",
       "      <td>NaN</td>\n",
       "    </tr>\n",
       "    <tr>\n",
       "      <th>16</th>\n",
       "      <td>BREAD</td>\n",
       "      <td>SUGAR</td>\n",
       "      <td>BOURNVITA</td>\n",
       "      <td>NaN</td>\n",
       "    </tr>\n",
       "    <tr>\n",
       "      <th>17</th>\n",
       "      <td>BREAD</td>\n",
       "      <td>COFFEE</td>\n",
       "      <td>SPLENDA</td>\n",
       "      <td>NaN</td>\n",
       "    </tr>\n",
       "    <tr>\n",
       "      <th>18</th>\n",
       "      <td>BREAD</td>\n",
       "      <td>COFFEE</td>\n",
       "      <td>STEVIA</td>\n",
       "      <td>NaN</td>\n",
       "    </tr>\n",
       "    <tr>\n",
       "      <th>19</th>\n",
       "      <td>TEA</td>\n",
       "      <td>MILK</td>\n",
       "      <td>COFFEE</td>\n",
       "      <td>CORNFLAKES</td>\n",
       "    </tr>\n",
       "  </tbody>\n",
       "</table>\n",
       "</div>"
      ],
      "text/plain": [
       "         0       1           2           3\n",
       "15  COFFEE  STEVIA  CORNFLAKES         NaN\n",
       "16   BREAD   SUGAR   BOURNVITA         NaN\n",
       "17   BREAD  COFFEE     SPLENDA         NaN\n",
       "18   BREAD  COFFEE      STEVIA         NaN\n",
       "19     TEA    MILK      COFFEE  CORNFLAKES"
      ]
     },
     "execution_count": 10,
     "metadata": {},
     "output_type": "execute_result"
    }
   ],
   "source": [
    "#Eliminando fila donde todo sea NaN\n",
    "df =df.dropna(how=\"all\")\n",
    "df.tail()"
   ]
  },
  {
   "cell_type": "code",
   "execution_count": 11,
   "id": "4e3c74ba-76d0-4724-97a5-eeabf1b91861",
   "metadata": {},
   "outputs": [
    {
     "data": {
      "text/plain": [
       "20"
      ]
     },
     "execution_count": 11,
     "metadata": {},
     "output_type": "execute_result"
    }
   ],
   "source": [
    "len(df)"
   ]
  },
  {
   "cell_type": "code",
   "execution_count": 13,
   "id": "9104df23-0be5-44c3-8f57-3b7de7cfab19",
   "metadata": {},
   "outputs": [],
   "source": [
    "# En una sola lista meterá cada observación (i.e. factura) del conjunto de datos. Es una lista de listas.\n",
    "records = []  \n",
    "for i in range(0, len(df)):  \n",
    "    records.append([str(df.values[i,j]) for j in range(0, len(df.columns))])"
   ]
  },
  {
   "cell_type": "markdown",
   "id": "1c649a43-532f-4b01-9b7f-b1b82e446881",
   "metadata": {},
   "source": [
    "__REGLAS DE ASOCIACIÓN__"
   ]
  },
  {
   "cell_type": "markdown",
   "id": "67d0daa8-30f9-4fa9-b405-df5cba630a12",
   "metadata": {},
   "source": [
    "__DEFINIENDO PARAMETROS__"
   ]
  },
  {
   "cell_type": "code",
   "execution_count": 14,
   "id": "f6503f19-bdd0-4b10-9c0a-31215e5fac06",
   "metadata": {},
   "outputs": [],
   "source": [
    "# CAMBIAR PARAMETROS:\n",
    "productos = 2 # Número minimo de productos a considerar en las reglas de asociación\n",
    "combinaciones = 3 #Quiero que las combinaciones que me muestre el algoritmo minimo aparezcan tres veces en la lista, son pocas porque solo tengo 20 listas.\n",
    "\n",
    "# MÉTRICAS PARA LA CALIDAD DEL MODELO:\n",
    "soporte = combinaciones / len(df)\n",
    "confianza = 0.2 #Que minimo se compre el 20% del producto Y cuando se compre el 100% del producto X.\n",
    "sustento = 1.7 #Para determinar que no es cuestión de suerte se compren ambos productos."
   ]
  },
  {
   "cell_type": "markdown",
   "id": "eb5262fe-2d9e-4212-8957-75a1e5f7c536",
   "metadata": {},
   "source": [
    "__ALGORITMO__"
   ]
  },
  {
   "cell_type": "code",
   "execution_count": 15,
   "id": "303fb3d0-b30d-48f0-9d1c-80d36e94793a",
   "metadata": {},
   "outputs": [],
   "source": [
    "association_rules = apriori(records, min_support=soporte, min_confidence=confianza, min_lift=sustento, min_length=productos)\n",
    "association_results = list(association_rules)  #Convertir los resultados a lista para facilidad de visualización"
   ]
  },
  {
   "cell_type": "markdown",
   "id": "e26f1219-4ba1-477e-b777-b994d1663536",
   "metadata": {},
   "source": [
    "__RESULTADOS__"
   ]
  },
  {
   "cell_type": "code",
   "execution_count": 16,
   "id": "451fb03c-86be-40c2-9629-50157dd5717b",
   "metadata": {},
   "outputs": [
    {
     "data": {
      "text/plain": [
       "2"
      ]
     },
     "execution_count": 16,
     "metadata": {},
     "output_type": "execute_result"
    }
   ],
   "source": [
    "# Cuentas de resultados encontrados\n",
    "len(association_results) # Número total de reglas (combinaciones) por el algoritmo"
   ]
  },
  {
   "cell_type": "code",
   "execution_count": 17,
   "id": "f81babb2-5247-4245-9947-2a976ba643ad",
   "metadata": {},
   "outputs": [
    {
     "data": {
      "text/plain": [
       "RelationRecord(items=frozenset({'JUICE', 'TEA'}), support=0.2, ordered_statistics=[OrderedStatistic(items_base=frozenset({'JUICE'}), items_add=frozenset({'TEA'}), confidence=0.8, lift=2.285714285714286), OrderedStatistic(items_base=frozenset({'TEA'}), items_add=frozenset({'JUICE'}), confidence=0.5714285714285715, lift=2.285714285714286)])"
      ]
     },
     "execution_count": 17,
     "metadata": {},
     "output_type": "execute_result"
    }
   ],
   "source": [
    "# Visualizar 1 resultado\n",
    "association_results[1]"
   ]
  },
  {
   "cell_type": "code",
   "execution_count": 19,
   "id": "ba3a76bc-06ce-41a6-b298-a5db817dacf6",
   "metadata": {},
   "outputs": [
    {
     "name": "stdout",
     "output_type": "stream",
     "text": [
      "20\n"
     ]
    }
   ],
   "source": [
    "total_compras=len(df)\n",
    "print(total_compras)"
   ]
  },
  {
   "cell_type": "code",
   "execution_count": 31,
   "id": "338aad22-a578-4310-81a0-354478617d9f",
   "metadata": {},
   "outputs": [
    {
     "name": "stdout",
     "output_type": "stream",
     "text": [
      "Regla: COOKIES -> COFFEE\n",
      "B --> A\n",
      "1\n",
      "  Total de compras: 20\n",
      "  Veces que aparece la combinación: 3.0\n",
      "  Soporte (% apariciones): 15.0%\n",
      "  Confianza (de 100 veces que se compra A, el producto B se compra (i.e. A y B se comprarón): 37.49999999999999%\n",
      "  Sustento (mayor a 1 -> no es casualidad): 1.8749999999999996\n",
      "==========================================================\n",
      "==========================================================\n",
      "Regla: JUICE -> TEA\n",
      "B --> A\n",
      "2\n",
      "  Total de compras: 20\n",
      "  Veces que aparece la combinación: 4.0\n",
      "  Soporte (% apariciones): 20.0%\n",
      "  Confianza (de 100 veces que se compra A, el producto B se compra (i.e. A y B se comprarón): 80.0%\n",
      "  Sustento (mayor a 1 -> no es casualidad): 2.285714285714286\n",
      "==========================================================\n",
      "==========================================================\n"
     ]
    }
   ],
   "source": [
    "# Visualizar todos los resultados\n",
    "contador=1\n",
    "for item in association_results:\n",
    "\n",
    "    pair = item[0] \n",
    "    items = [x for x in pair]\n",
    "    print(\"Regla: \" + items[0] + \" -> \" + items[1])\n",
    "\n",
    "    #second index of the inner list\n",
    "    print( \"B --> A\")\n",
    "    print(contador)\n",
    "    print(\"  Total de compras: \" + str(total_compras))\n",
    "    print(\"  Veces que aparece la combinación: \" + str(item[1]*total_compras))\n",
    "    print(\"  Soporte (% apariciones): \" + str(item[1]*100)+ \"%\")\n",
    "    print(\"  Confianza (de 100 veces que se compra A, el producto B se compra (i.e. A y B se comprarón): \" + str(item[2][0][2]*100)+ \"%\")\n",
    "    print(\"  Sustento (mayor a 1 -> no es casualidad): \" + str(item[2][0][3]))\n",
    "    print(\"==========================================================\")\n",
    "    print(\"==========================================================\")\n",
    "    contador=contador+1"
   ]
  }
 ],
 "metadata": {
  "kernelspec": {
   "display_name": "Python 3 (ipykernel)",
   "language": "python",
   "name": "python3"
  },
  "language_info": {
   "codemirror_mode": {
    "name": "ipython",
    "version": 3
   },
   "file_extension": ".py",
   "mimetype": "text/x-python",
   "name": "python",
   "nbconvert_exporter": "python",
   "pygments_lexer": "ipython3",
   "version": "3.10.9"
  }
 },
 "nbformat": 4,
 "nbformat_minor": 5
}
